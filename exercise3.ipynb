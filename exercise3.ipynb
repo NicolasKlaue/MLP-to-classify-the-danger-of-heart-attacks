{
 "cells": [
  {
   "cell_type": "markdown",
   "metadata": {},
   "source": [
    "## Import libraries"
   ]
  },
  {
   "cell_type": "code",
   "execution_count": null,
   "metadata": {},
   "outputs": [],
   "source": [
    "import pandas as pd\n",
    "from ydata_profiling import ProfileReport\n",
    "# Minmaxscaler\n",
    "from sklearn.preprocessing import MinMaxScaler\n",
    "# Train test split\n",
    "from sklearn.model_selection import train_test_split\n",
    "# Resampling minority class\n",
    "from sklearn.utils import resample\n",
    "# Keras\n",
    "from tensorflow.keras.models import Sequential\n",
    "from tensorflow.keras.layers import Dense, Dropout\n",
    "from tensorflow.keras.optimizers import SGD\n",
    "from tensorflow.keras.utils import to_categorical\n",
    "# Evaluation\n",
    "import seaborn as sns\n",
    "import matplotlib.pyplot as plt\n",
    "# Ignore warnings\n",
    "import warnings\n",
    "warnings.filterwarnings('ignore', category=FutureWarning)\n",
    "# Class weights\n",
    "from sklearn.utils import class_weight\n",
    "import numpy as np\n",
    "# Tensorboard\n",
    "import datetime\n",
    "from tensorflow.keras.callbacks import TensorBoard\n",
    "# Confusion matrix\n",
    "from sklearn.metrics import confusion_matrix\n",
    "\n",
    "\n",
    "%matplotlib inline\n",
    "%load_ext tensorboard"
   ]
  },
  {
   "cell_type": "markdown",
   "metadata": {},
   "source": [
    "## Store CSV as a DF"
   ]
  },
  {
   "cell_type": "code",
   "execution_count": null,
   "metadata": {},
   "outputs": [],
   "source": [
    "# Read the data from heart_attack.csv making the first row the header\n",
    "data = pd.read_csv('heart_attack.csv', header=0, sep=';')\n",
    "\n",
    "# Display the first 5 rows of the data\n",
    "print(data.head())"
   ]
  },
  {
   "cell_type": "markdown",
   "metadata": {},
   "source": [
    "### Clean the data"
   ]
  },
  {
   "cell_type": "code",
   "execution_count": null,
   "metadata": {},
   "outputs": [],
   "source": [
    "# Drop the id column\n",
    "\n",
    "data = data.drop('id', axis=1)\n",
    "data.head()"
   ]
  },
  {
   "cell_type": "code",
   "execution_count": null,
   "metadata": {},
   "outputs": [],
   "source": [
    "profile = ProfileReport(data, title=\"Profiling Report\")\n",
    "profile.to_notebook_iframe()"
   ]
  },
  {
   "cell_type": "code",
   "execution_count": null,
   "metadata": {},
   "outputs": [],
   "source": [
    "# Eliminate the rows form bmi that are missing\n",
    "data = data.dropna(subset=['bmi'])\n",
    "data.head()"
   ]
  },
  {
   "cell_type": "markdown",
   "metadata": {},
   "source": [
    "## Encoding"
   ]
  },
  {
   "cell_type": "code",
   "execution_count": null,
   "metadata": {},
   "outputs": [],
   "source": [
    "data['gender'] = data['gender'].map({'Male': 0, 'Female': 1})\n",
    "data['married'] = data['married'].map({'No': 0, 'Yes': 1})\n",
    "data['job'] = data['job'].map({'Unemployed': 0, 'Private': 1, 'Self-employed': 2, 'Government employee': 3, 'Minor': 4})\n",
    "data['residence'] = data['residence'].map({'Rural': 0, 'Urban': 1})\n",
    "data['tobacco_use'] = data['tobacco_use'].map({'Former smoker': 0, 'Never': 1, 'Smoker': 2, 'Unknown': 3})"
   ]
  },
  {
   "cell_type": "code",
   "execution_count": null,
   "metadata": {},
   "outputs": [],
   "source": [
    "data.head()"
   ]
  },
  {
   "cell_type": "code",
   "execution_count": null,
   "metadata": {},
   "outputs": [],
   "source": [
    "# Normalize the data\n",
    "scaler = MinMaxScaler()\n",
    "data_normalized = pd.DataFrame(scaler.fit_transform(data), columns=data.columns)\n",
    "data_normalized.head()"
   ]
  },
  {
   "cell_type": "code",
   "execution_count": null,
   "metadata": {},
   "outputs": [],
   "source": [
    "profile = ProfileReport(data, title=\"Profiling Report\")\n",
    "profile.to_notebook_iframe()"
   ]
  },
  {
   "cell_type": "markdown",
   "metadata": {},
   "source": [
    "## Correct imbalances"
   ]
  },
  {
   "cell_type": "code",
   "execution_count": null,
   "metadata": {},
   "outputs": [],
   "source": [
    "# Drop hypertension and coronary_heart_disease\n",
    "#data_normalized = data_normalized.drop(['hypertension', 'coronary_heart_disease'], axis=1)\n"
   ]
  },
  {
   "cell_type": "markdown",
   "metadata": {},
   "source": [
    "## MLP"
   ]
  },
  {
   "cell_type": "markdown",
   "metadata": {},
   "source": [
    "### Tensorboard Configuration"
   ]
  },
  {
   "cell_type": "code",
   "execution_count": null,
   "metadata": {},
   "outputs": [],
   "source": [
    "log_dir = \"logs/fit/\" + datetime.datetime.now().strftime(\"%Y%m%d-%H%M%S\")\n",
    "tensorboard_callback = TensorBoard(log_dir=log_dir, histogram_freq=1)"
   ]
  },
  {
   "cell_type": "code",
   "execution_count": null,
   "metadata": {},
   "outputs": [],
   "source": [
    "# Separate labels and features\n",
    "y = data_normalized['heart_attack']\n",
    "X = data_normalized.drop('heart_attack', axis=1)  #  'heart_attack' is the value we want to predict"
   ]
  },
  {
   "cell_type": "code",
   "execution_count": null,
   "metadata": {},
   "outputs": [],
   "source": [
    "# Divide the data into training, validation and test sets\n",
    "X_train, X_temp, y_train, y_temp = train_test_split(X, y, test_size=0.3, random_state=42)\n",
    "X_val, X_test, y_val, y_test = train_test_split(X_temp, y_temp, test_size=0.25, random_state=42)\n",
    "\n",
    "print(y_train.value_counts())\n"
   ]
  },
  {
   "cell_type": "code",
   "execution_count": null,
   "metadata": {},
   "outputs": [],
   "source": [
    "# Reset the index of the dataframes\n",
    "X_train = X_train.reset_index(drop=True)\n",
    "y_train = y_train.reset_index(drop=True)\n",
    "X_val = X_val.reset_index(drop=True)\n",
    "y_val = y_val.reset_index(drop=True)"
   ]
  },
  {
   "cell_type": "code",
   "execution_count": null,
   "metadata": {},
   "outputs": [],
   "source": [
    "# Define the model\n",
    "model = Sequential()\n",
    "model.add(Dense(18, input_shape=(X_train.shape[1],), activation='relu'))  # Input layer\n",
    "model.add(Dropout(0.2))  # Dropout layer to prevent overfitting\n",
    "model.add(Dense(36, activation='relu'))  # Hidden layer\n",
    "model.add(Dense(36, activation='relu'))  # Hidden layer\n",
    "model.add(Dense(18, activation='relu'))  # Hidden layer\n",
    "model.add(Dense(1, activation='sigmoid'))  # Output layer\n",
    "\n",
    "# Compile the model\n",
    "optimizer = SGD(learning_rate=0.1, momentum=0.9)\n",
    "model.compile(optimizer=optimizer, loss='binary_crossentropy', metrics=['accuracy'])\n",
    "\n",
    "# Fit the model\n",
    "history = model.fit(X_train, y_train, validation_data=(X_val, y_val), epochs=1000, batch_size=50, callbacks=[tensorboard_callback])\n",
    "\n",
    "# Evaluate the model\n",
    "test_loss, test_acc = model.evaluate(X_test, y_test)\n",
    "print(f'Test Accuracy: {test_acc*100:.2f}%')"
   ]
  },
  {
   "cell_type": "code",
   "execution_count": null,
   "metadata": {},
   "outputs": [],
   "source": [
    "# Making predictions to represent the confusion matrix\n",
    "y_pred_prob = model.predict(X_test)\n",
    "y_pred = [1 if prob > 0.5 else 0 for prob in y_pred_prob]\n",
    "# Calculate the confusion matrix\n",
    "cm = confusion_matrix(y_test, y_pred)"
   ]
  },
  {
   "cell_type": "code",
   "execution_count": null,
   "metadata": {},
   "outputs": [],
   "source": [
    "# Labels for the cells\n",
    "class_names = ['No Heart Attack', 'Heart Attack']\n",
    "\n",
    "plt.figure(figsize=(8, 6))\n",
    "sns.heatmap(cm, annot=True, fmt='d', cmap='Blues', xticklabels=class_names, yticklabels=class_names)\n",
    "plt.title('Confusion Matrix')\n",
    "plt.ylabel('True Label')\n",
    "plt.xlabel('Predicted Label')\n",
    "plt.show()"
   ]
  },
  {
   "cell_type": "markdown",
   "metadata": {},
   "source": [
    "## Grid Search"
   ]
  },
  {
   "cell_type": "code",
   "execution_count": null,
   "metadata": {},
   "outputs": [],
   "source": [
    "# Divide the data into training, validation and test sets\n",
    "y = data_normalized['heart_attack']\n",
    "X = data_normalized.drop('heart_attack', axis=1)  #  'heart_attack' is the value we want to predict\n",
    "\n",
    "X_train, X_temp, y_train, y_temp = train_test_split(X, y, test_size=0.2, random_state=42)\n",
    "X_val, X_test, y_val, y_test = train_test_split(X_temp, y_temp, test_size=0.25, random_state=42)"
   ]
  },
  {
   "cell_type": "code",
   "execution_count": null,
   "metadata": {},
   "outputs": [],
   "source": [
    "# Combinations of hyperparameters\n",
    "num_hidden_layers = [1, 2, 3]  # Number of hidden layers\n",
    "learning_rates = [0.001, 0.01, 0.1]  # Learning rates\n",
    "momentums = [0.0, 0.5, 0.9]  # Number of \"momentums\"\n",
    "neurons_per_layer = [16, 32, 64]  # Number of nuerons per hidden layer\n",
    "\n",
    "# List to store the results\n",
    "results = []\n",
    "\n",
    "for layers in num_hidden_layers:\n",
    "    for lr in learning_rates:\n",
    "        for momentum in momentums:\n",
    "            for neurons in neurons_per_layer:\n",
    "                # Define the model\n",
    "                model = Sequential()\n",
    "                model.add(Dense(neurons, input_shape=(X_train.shape[1],), activation='relu'))\n",
    "                for _ in range(layers - 1):  # Add the hidden layers previously defined\n",
    "                    model.add(Dense(neurons, activation='relu'))\n",
    "                model.add(Dense(1, activation='sigmoid'))  # Output layer\n",
    "                \n",
    "                # Compile the model\n",
    "                optimizer = SGD(learning_rate=lr, momentum=momentum)\n",
    "                model.compile(optimizer=optimizer, loss='binary_crossentropy', metrics=['accuracy'])\n",
    "                \n",
    "                # Train the model\n",
    "                history = model.fit(X_train, y_train, validation_data=(X_val, y_val), epochs=10, batch_size=50, verbose=1)\n",
    "                \n",
    "                # Evaluate the model\n",
    "                test_loss, test_acc = model.evaluate(X_test, y_test, verbose=0)\n",
    "                \n",
    "                # Store the results\n",
    "                results.append({'layers': layers, 'learning_rate': lr, 'momentum': momentum, 'neurons': neurons, 'test_acc': test_acc})\n",
    "\n",
    "# Transform the results to a DataFrame\n",
    "results_df = pd.DataFrame(results)\n",
    "print(results_df.sort_values(by='test_acc', ascending=False))"
   ]
  },
  {
   "cell_type": "code",
   "execution_count": null,
   "metadata": {},
   "outputs": [],
   "source": [
    "plt.figure(figsize=(10, 6))\n",
    "plot = sns.scatterplot(data=results_df, x='neurons', y='test_acc', hue='learning_rate', style='momentum', size='layers', palette='viridis', sizes=(50, 200))\n",
    "plt.title('Accuracy given a number of neurons (coloured by learning rate)')\n",
    "plt.xlabel('Number of neurons')\n",
    "plt.ylabel('Test accuracy')\n",
    "plt.legend(title='Learning rate', bbox_to_anchor=(1.05, 1), loc='upper left')\n",
    "plt.tight_layout()  # Improve the display of the plot\n",
    "plt.show()\n"
   ]
  },
  {
   "cell_type": "code",
   "execution_count": null,
   "metadata": {},
   "outputs": [],
   "source": [
    "# Filtrando para un número específico de capas y momento para simplificar\n",
    "filtered_df = results_df[results_df['layers'] == 2]\n",
    "filtered_df = filtered_df[filtered_df['momentum'] == 0.9]\n",
    "\n",
    "plt.figure(figsize=(10, 6))\n",
    "sns.lineplot(data=filtered_df, x='learning_rate', y='test_acc', hue='neurons', marker='o', palette='coolwarm')\n",
    "plt.title('Accuracy vs learning rate for a given number of neurons')\n",
    "plt.xlabel('Learning rate')\n",
    "plt.ylabel('Test accuracy')\n",
    "plt.legend(title='Neurons')\n",
    "plt.show()\n"
   ]
  },
  {
   "cell_type": "code",
   "execution_count": null,
   "metadata": {},
   "outputs": [],
   "source": [
    "heatmap_data = results_df.pivot_table(index=\"learning_rate\", columns=\"momentum\", values=\"test_acc\", aggfunc='mean')\n",
    "\n",
    "plt.figure(figsize=(8, 6))\n",
    "sns.heatmap(heatmap_data, annot=True, cmap=\"YlGnBu\", fmt=\".2f\")\n",
    "plt.title('Accuracy given a learning rate and momentum')\n",
    "plt.xlabel('Momentum')\n",
    "plt.ylabel('Learning rate')\n",
    "plt.show()\n",
    "\n"
   ]
  }
 ],
 "metadata": {
  "kernelspec": {
   "display_name": ".venv",
   "language": "python",
   "name": "python3"
  },
  "language_info": {
   "codemirror_mode": {
    "name": "ipython",
    "version": 3
   },
   "file_extension": ".py",
   "mimetype": "text/x-python",
   "name": "python",
   "nbconvert_exporter": "python",
   "pygments_lexer": "ipython3",
   "version": "3.12.2"
  }
 },
 "nbformat": 4,
 "nbformat_minor": 2
}
